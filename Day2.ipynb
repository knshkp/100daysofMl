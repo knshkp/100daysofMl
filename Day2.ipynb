{
  "nbformat": 4,
  "nbformat_minor": 0,
  "metadata": {
    "colab": {
      "name": "Untitled71.ipynb",
      "provenance": []
    },
    "kernelspec": {
      "name": "python3",
      "display_name": "Python 3"
    },
    "language_info": {
      "name": "python"
    }
  },
  "cells": [
    {
      "cell_type": "markdown",
      "source": [
        "# Regex"
      ],
      "metadata": {
        "id": "h_4u_MfrK8DH"
      }
    },
    {
      "cell_type": "markdown",
      "source": [
        "A regular expression is used when you want to find a sequence from the text or matching pattern extracting information from the text or a regular expression  is a sequence of characters that specifies a search pattern in text. Usually such patterns are used by string-searching algorithms for \"find\" or \"find and replace\" operations on strings, or for input validation. Regular expression techniques are developed in theoretical computer science and formal language theory."
      ],
      "metadata": {
        "id": "1FHAD4zrKAd2"
      }
    },
    {
      "cell_type": "code",
      "execution_count": 1,
      "metadata": {
        "id": "RlKoBxDFBEag"
      },
      "outputs": [],
      "source": [
        "import re"
      ]
    },
    {
      "cell_type": "code",
      "source": [
        "text='''Born\tElon Reeve Musk\n",
        "June 28, 1971 (age 51)\n",
        "Pretoria, Transvaal, South Africa\n",
        "Education\t\n",
        "University of Pennsylvania (BA, BS)\n",
        "Title\t\n",
        "Founder, CEO, and Chief Engineer of SpaceX\n",
        "CEO and product architect of Tesla, Inc.\n",
        "Founder of The Boring Company and X.com (now part of PayPal)\n",
        "Co-founder of Neuralink, OpenAI, and Zip2\n",
        "President of Musk Foundation\n",
        "Spouse(s)\t\n",
        "Justine Wilson\n",
        "​\n",
        "​(m. 2000; div. 2008)​\n",
        "Talulah Riley\n",
        "​\n",
        "​(m. 2010; div. 2012)​\n",
        "​\n",
        "​(m. 2013; div. 2016)​\n",
        "Partner(s)\tGrimes (2018–2022)[1]\n",
        "Children\t10[a][3]\n",
        "Parents\t\n",
        "Errol Musk (father)\n",
        "Maye Musk (mother)\n",
        "Relatives\t\n",
        "Tosca Musk (sister)\n",
        "Kimbal Musk (brother)\n",
        "Lyndon Rive (cousin)\n",
        "Family\tMusk family\n",
        "Awards\tList of honors and awards'''"
      ],
      "metadata": {
        "id": "LLrDzSL-BF1w"
      },
      "execution_count": 2,
      "outputs": []
    },
    {
      "cell_type": "markdown",
      "source": [],
      "metadata": {
        "id": "Pnj5FIUrK5zq"
      }
    },
    {
      "cell_type": "code",
      "source": [
        "pattern='age (\\d+)'\n",
        "matches=re.findall(pattern,text)\n",
        "email=matches[0]\n",
        "email"
      ],
      "metadata": {
        "colab": {
          "base_uri": "https://localhost:8080/",
          "height": 36
        },
        "id": "VDels7Q4BRvI",
        "outputId": "d0dae785-4d6f-45cb-ae71-05c822bfd91f"
      },
      "execution_count": 5,
      "outputs": [
        {
          "output_type": "execute_result",
          "data": {
            "text/plain": [
              "'51'"
            ],
            "application/vnd.google.colaboratory.intrinsic+json": {
              "type": "string"
            }
          },
          "metadata": {},
          "execution_count": 5
        }
      ]
    },
    {
      "cell_type": "markdown",
      "source": [
        "This function is matching pattern from the text"
      ],
      "metadata": {
        "id": "HPUSVuJdLFnW"
      }
    },
    {
      "cell_type": "code",
      "source": [
        "def get_pattern(pattern,text):\n",
        "  matches=re.findall(pattern,text)\n",
        "  if matches:\n",
        "    return matches[0]"
      ],
      "metadata": {
        "id": "71VSvY1lCJJt"
      },
      "execution_count": 9,
      "outputs": []
    },
    {
      "cell_type": "code",
      "source": [
        "def get_personal_info(text):\n",
        "  age=get_pattern('age (\\d+)',text)\n",
        "  fullname=get_pattern('Born(.*)\\n',text)\n",
        "  birth_date=get_pattern('Born.*\\n(.*)\\(age',text)\n",
        "  birth_place=get_pattern('age.*\\n(.*)',text)\n",
        "  return {\n",
        "      'Age':int(age),\n",
        "      'FullName':fullname.strip(),\n",
        "      'Birth Date':birth_date.strip(),\n",
        "      'Birth Place':birth_place.strip()\n",
        "  }\n",
        "get_personal_info(text)\n"
      ],
      "metadata": {
        "colab": {
          "base_uri": "https://localhost:8080/"
        },
        "id": "tZdUjVdTE1OV",
        "outputId": "d6d061f6-5bbe-45ad-f3d7-10b7151b498b"
      },
      "execution_count": 10,
      "outputs": [
        {
          "output_type": "execute_result",
          "data": {
            "text/plain": [
              "{'Age': 51,\n",
              " 'FullName': 'Elon Reeve Musk',\n",
              " 'Birth Date': 'June 28, 1971',\n",
              " 'Birth Place': 'Pretoria, Transvaal, South Africa'}"
            ]
          },
          "metadata": {},
          "execution_count": 10
        }
      ]
    },
    {
      "cell_type": "code",
      "source": [
        "text_mukesh='''Born\tMukesh Dhirubhai Ambani\n",
        "19 April 1957 (age 65)\n",
        "Aden, Colony of Aden\n",
        "(present-day Yemen)[1][2]\n",
        "Nationality\tIndian\n",
        "Alma mater\t\n",
        "St. Xavier's College, Mumbai\n",
        "Institute of Chemical Technology (B.E.)\n",
        "Stanford University (drop-out)\n",
        "Occupation\tChairman and MD, Reliance Industries\n",
        "Spouse(s)\tNita Ambani ​(m. 1985)​[3]\n",
        "Children\t3, including Akash Ambani\n",
        "Parent(s)\t\n",
        "Dhirubhai Ambani (father)\n",
        "Relatives\tAnil Ambani (brother)\n",
        "Tina Ambani (sister-in-law)'''"
      ],
      "metadata": {
        "id": "1YRcJnIbHdZq"
      },
      "execution_count": 12,
      "outputs": []
    },
    {
      "cell_type": "code",
      "source": [
        "get_personal_info(text_mukesh)"
      ],
      "metadata": {
        "colab": {
          "base_uri": "https://localhost:8080/"
        },
        "id": "WmouBHU6H6Hv",
        "outputId": "74175eca-0f4c-4c23-efbc-2f3ab83f5df6"
      },
      "execution_count": 14,
      "outputs": [
        {
          "output_type": "execute_result",
          "data": {
            "text/plain": [
              "{'Age': 65,\n",
              " 'FullName': 'Mukesh Dhirubhai Ambani',\n",
              " 'Birth Date': '19 April 1957',\n",
              " 'Birth Place': 'Aden, Colony of Aden'}"
            ]
          },
          "metadata": {},
          "execution_count": 14
        }
      ]
    },
    {
      "cell_type": "code",
      "source": [
        "text_tata='''Born\tRatan Naval Tata\n",
        "28 December 1937 (age 84)\n",
        "Bombay, Bombay Presidency, British India\n",
        "(present-day Mumbai, Maharashtra, India)\n",
        "Alma mater\tCornell University (BArch)\n",
        "Occupation\t\n",
        "Industrialistphilanthropistinvestor\n",
        "Title\tChairman Emeritus, Tata Sons and Tata Group[1]\n",
        "Term\t(1991–2012)\n",
        "(2016–2017)\n",
        "Predecessor\tJRD Tata\n",
        "Successor\tCyrus Mistry (2012 -2016)\n",
        "Natarajan Chandrasekaran (2017–present)\n",
        "Parent(s)\tNaval Tata\n",
        "Relatives\tTata family\n",
        "Awards\tAssam Baibhav (2021)\n",
        "Padma Vibhushan (2008)\n",
        "Maharashtra Bhushan (2006)\n",
        "Padma Bhushan (2000)'''\n",
        "get_personal_info(text_tata)"
      ],
      "metadata": {
        "colab": {
          "base_uri": "https://localhost:8080/"
        },
        "id": "rN-UxoHNIBBq",
        "outputId": "de0231cf-8167-4138-e3d5-fb78b419f35a"
      },
      "execution_count": 15,
      "outputs": [
        {
          "output_type": "execute_result",
          "data": {
            "text/plain": [
              "{'Age': 84,\n",
              " 'FullName': 'Ratan Naval Tata',\n",
              " 'Birth Date': '28 December 1937',\n",
              " 'Birth Place': 'Bombay, Bombay Presidency, British India'}"
            ]
          },
          "metadata": {},
          "execution_count": 15
        }
      ]
    },
    {
      "cell_type": "code",
      "source": [],
      "metadata": {
        "id": "OkXm1s5xIh7k"
      },
      "execution_count": null,
      "outputs": []
    }
  ]
}